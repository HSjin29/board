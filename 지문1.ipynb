{
  "nbformat": 4,
  "nbformat_minor": 0,
  "metadata": {
    "colab": {
      "provenance": [],
      "authorship_tag": "ABX9TyNVK3fP18uhW3iR818vNgqB",
      "include_colab_link": true
    },
    "kernelspec": {
      "name": "python3",
      "display_name": "Python 3"
    },
    "language_info": {
      "name": "python"
    }
  },
  "cells": [
    {
      "cell_type": "markdown",
      "metadata": {
        "id": "view-in-github",
        "colab_type": "text"
      },
      "source": [
        "<a href=\"https://colab.research.google.com/github/HSjin29/board/blob/master/%EC%A7%80%EB%AC%B81.ipynb\" target=\"_parent\"><img src=\"https://colab.research.google.com/assets/colab-badge.svg\" alt=\"Open In Colab\"/></a>"
      ]
    },
    {
      "cell_type": "code",
      "execution_count": 4,
      "metadata": {
        "id": "RJ0W858yYaBE"
      },
      "outputs": [],
      "source": [
        "#선형대수를 위한 numpy\n",
        "import numpy as np\n",
        "#이미지 시각화\n",
        "import matplotlib.pyplot as plt\n",
        "#학습을 위한 keras\n",
        "import keras\n",
        "from keras import layers\n",
        "from keras.models import Model\n",
        "#이미지 학습을 위한 데이터 나누는 sklearn 패키지\n",
        "from sklearn.utils import shuffle\n",
        "from sklearn.model_selection import train_test_split\n",
        "#이미지 변환을 위한 imgaug\n",
        "from imgaug import augmenters as iaa\n",
        "\n",
        "import random\n"
      ]
    },
    {
      "cell_type": "code",
      "source": [
        "#Load Dataset-데이터 확인\n",
        "x_real = np.load('dataset/x_real.npz')['data']\n",
        "y_real = np.load('dataset/y_real.npy')\n",
        "x_easy = np.load('dataset/x_easy.npz')['data']\n",
        "y_easy = np.load('dataset/y_easy.npy')\n",
        "x_medium = np.load('dataset/x_medium.npz')['data']\n",
        "y_medium = np.load('dataset/y_medium.npy')\n",
        "x_hard = np.load('dataset/x_hard.npz')['data']\n",
        "y_hard = np.load('dataset/y_hard.npy')\n",
        "\n",
        "print(x_real.shape, y_real.shape)\n",
        "#이미지 확인\n",
        "plt.figure(figsize=(15, 10))\n",
        "plt.subplot(1, 4, 1)\n",
        "plt.title(y_real[0])\n",
        "plt.imshow(x_real[0].squeeze(), cmap='gray')\n",
        "plt.subplot(1, 4, 2)\n",
        "plt.title(y_easy[0])\n",
        "plt.imshow(x_easy[0].squeeze(), cmap='gray')\n",
        "plt.subplot(1, 4, 3)\n",
        "plt.title(y_medium[0])\n",
        "plt.imshow(x_medium[0].squeeze(), cmap='gray')\n",
        "plt.subplot(1, 4, 4)\n",
        "plt.title(y_hard[0])\n",
        "plt.imshow(x_hard[0].squeeze(), cmap='gray')\n",
        "(6000, 90, 90, 1) (6000, 4)\n"
      ],
      "metadata": {
        "id": "aTsrZmHP5k-G"
      },
      "execution_count": null,
      "outputs": []
    },
    {
      "cell_type": "code",
      "source": [
        "#Train Test Split\n",
        "#데이터 합치기\n",
        "x_data = np.concatenate([x_easy, x_medium, x_hard], axis=0)\n",
        "label_data = np.concatenate([y_easy, y_medium, y_hard], axis=0)\n",
        "#학습을 위한 데이터 나누기\n",
        "x_train, x_val, label_train, label_val = train_test_split(x_data, label_data, test_size=0.1)\n",
        "\n",
        "#출력\n",
        "print(x_data.shape, label_data.shape)\n",
        "print(x_train.shape, label_train.shape)\n",
        "print(x_val.shape, label_val.shape)\n"
      ],
      "metadata": {
        "id": "DxxidN0o6B1h"
      },
      "execution_count": null,
      "outputs": []
    },
    {
      "cell_type": "code",
      "source": [
        "#Preview Augmentation\n",
        "#이미지 변환\n",
        "augs = [x_data[40000]] * 9\n",
        "\n",
        "#imgeage\n",
        "seq = iaa.Sequential([\n",
        "    # blur(이미지 흐릿) images with a sigma of 0 to 0.5\n",
        "    iaa.GaussianBlur(sigma=(0, 0.5)),\n",
        "    iaa.Affine(\n",
        "        # scale images(이미지 사이즈 조정) to 90-110% of their size, individually per axis\n",
        "        scale={\"x\": (0.9, 1.1), \"y\": (0.9, 1.1)},\n",
        "        # translate(이미지 위치 조정) by -10 to +10 percent (per axis)\n",
        "        translate_percent={\"x\": (-0.1, 0.1), \"y\": (-0.1, 0.1)},\n",
        "        # rotate(이미지 회전) by -30 to +30 degrees\n",
        "        rotate=(-30, 30),\n",
        "        # use nearest neighbour or bilinear interpolation (fast)\n",
        "        order=[0, 1],\n",
        "        # if mode is constant, use a cval between 0 and 255(빈공간 흰색으로 채우기)\n",
        "        cval=255\n",
        "    )\n",
        "    #이미지 변형 순서 랜덤으로 설정\n",
        "], random_order=True)\n",
        "\n",
        "#변수에 변형된 이미지 저장\n",
        "augs = seq.augment_images(augs)\n",
        "\n",
        "#이미지 출력\n",
        "plt.figure(figsize=(16, 6))\n",
        "plt.subplot(2, 5, 1)\n",
        "plt.title('original')\n",
        "plt.imshow(x_data[40000].squeeze(), cmap='gray')\n",
        "for i, aug in enumerate(augs):\n",
        "    plt.subplot(2, 5, i+2)\n",
        "    plt.title('aug %02d' % int(i+1))\n",
        "    plt.imshow(aug.squeeze(), cmap='gray')\n",
        "\n",
        "# =>이미지 상용화를 위한 이미지 변형 과정 / 회전된 문자, 연하게 출력된 문자에 대한 문제에 대처하기 위한 방법"
      ],
      "metadata": {
        "id": "BthMqk1-6_kg"
      },
      "execution_count": null,
      "outputs": []
    },
    {
      "cell_type": "code",
      "source": [
        "# Make Label Dictionary Lookup Table\n",
        "# 이미지를 찾기 쉽게(데이터 확인) 실제 이미지의 라벨에서 찾을 수 있도록 데이터\n",
        "label_real_dict = {}\n",
        "\n",
        "for i, y in enumerate(y_real):\n",
        "    key = y.astype(str)\n",
        "    key = ''.join(key).zfill(6)\n",
        "\n",
        "    label_real_dict[key] = i\n"
      ],
      "metadata": {
        "id": "C67hYhwy8pxS"
      },
      "execution_count": null,
      "outputs": []
    },
    {
      "cell_type": "code",
      "source": [
        "# 클래스 생성 DataGenerator\n",
        "# 실시간 데이터 증강 및 배치 생성: 데이터 학습의 정확도를 높히는 역할 / 학습 방법\n",
        "class DataGenerator(keras.utils.Sequence):\n",
        "    def __init__(self, x, label, x_real, label_real_dict, batch_size=32, shuffle=True):\n",
        "        'Initialization'\n",
        "        self.x = x\n",
        "        self.label = label\n",
        "        self.x_real = x_real\n",
        "        self.label_real_dict = label_real_dict\n",
        "\n",
        "        self.batch_size = batch_size\n",
        "        self.shuffle = shuffle\n",
        "        self.on_epoch_end()\n",
        "\n",
        "    def __len__(self):\n",
        "        'Denotes the number of batches per epoch'\n",
        "        return int(np.floor(len(self.x) / self.batch_size))\n",
        "#중요: 실제로 데이터의 배치로 하는 역할\n",
        "#메소드 생성 __getitem__\n",
        "    def __getitem__(self, index):\n",
        "        'Generate one batch of data'\n",
        "        # Generate indexes of the batch\n",
        "        x1_batch = self.x[index*self.batch_size:(index+1)*self.batch_size]\n",
        "        label_batch = self.label[index*self.batch_size:(index+1)*self.batch_size]\n",
        "\n",
        "        x2_batch = np.empty((self.batch_size, 90, 90, 1), dtype=np.float32)\n",
        "        y_batch = np.zeros((self.batch_size, 1), dtype=np.float32)\n",
        "\n",
        "        # augmentation(이미지 변형)\n",
        "        if self.shuffle:\n",
        "            seq = iaa.Sequential([\n",
        "                iaa.GaussianBlur(sigma=(0, 0.5)),\n",
        "                iaa.Affine(\n",
        "                    scale={\"x\": (0.9, 1.1), \"y\": (0.9, 1.1)},\n",
        "                    translate_percent={\"x\": (-0.1, 0.1), \"y\": (-0.1, 0.1)},\n",
        "                    rotate=(-30, 30),\n",
        "                    order=[0, 1],\n",
        "                    cval=255\n",
        "                )\n",
        "            ], random_order=True)\n",
        "            #x1_batch 저장\n",
        "            x1_batch = seq.augment_images(x1_batch)\n",
        "\n",
        "        # pick matched images(label 1.0) and unmatched images(label 0.0) and put together in batch\n",
        "        # matched images must be all same, [subject_id(3), gender(1), left_right(1), finger(1)], e.g) 034010\n",
        "        for i, l in enumerate(label_batch):\n",
        "            match_key = l.astype(str)\n",
        "            match_key = ''.join(match_key).zfill(6)\n",
        "            #라벨 생성: 0~1사이의 랜덤 숫자 생성하여 50%확률일 때\n",
        "            if random.random() > 0.5:\n",
        "                # put matched image\n",
        "                # 일치하는 지문 == 1 : x2_batch에 일치하는 데이터를 넣어서 1이라는 라벨 출력\n",
        "                x2_batch[i] = self.x_real[self.label_real_dict[match_key]]\n",
        "                y_batch[i] = 1.\n",
        "            else:\n",
        "                # put unmatched image\n",
        "                # 다른 지문 == 0\n",
        "                while True:\n",
        "                    unmatch_key, unmatch_idx = random.choice(list(self.label_real_dict.items()))\n",
        "\n",
        "                    if unmatch_key != match_key:\n",
        "                        break\n",
        "\n",
        "                x2_batch[i] = self.x_real[unmatch_idx]\n",
        "                y_batch[i] = 0.\n",
        "\n",
        "        return [x1_batch.astype(np.float32) / 255., x2_batch.astype(np.float32) / 255.], y_batch\n",
        "\n",
        "    def on_epoch_end(self):\n",
        "        if self.shuffle == True:\n",
        "            self.x, self.label = shuffle(self.x, self.label)\n",
        "\n"
      ],
      "metadata": {
        "id": "K65xQVZ3-CK-"
      },
      "execution_count": null,
      "outputs": []
    },
    {
      "cell_type": "code",
      "source": [
        "#train - 학습\n",
        "train_gen = DataGenerator(x_train, label_train, x_real, label_real_dict, shuffle=True)\n",
        "#validation - 답\n",
        "val_gen = DataGenerator(x_val, label_val, x_real, label_real_dict, shuffle=False)\n"
      ],
      "metadata": {
        "id": "_qLHF-zyBpcA"
      },
      "execution_count": null,
      "outputs": []
    },
    {
      "cell_type": "code",
      "source": [
        "#Create Model: 모델 생성\n",
        "#input 생성\n",
        "x1 = layers.Input(shape=(90, 90, 1))\n",
        "x2 = layers.Input(shape=(90, 90, 1))\n",
        "\n",
        "# share weights both inputs\n",
        "# feature 모델\n",
        "inputs = layers.Input(shape=(90, 90, 1))\n",
        "\n",
        "feature = layers.Conv2D(32, kernel_size=3, padding='same', activation='relu')(inputs)\n",
        "feature = layers.MaxPooling2D(pool_size=2)(feature)\n",
        "\n",
        "feature = layers.Conv2D(32, kernel_size=3, padding='same', activation='relu')(feature)\n",
        "feature = layers.MaxPooling2D(pool_size=2)(feature)\n",
        "# 특징 뽑아내는 모델 생성\n",
        "feature_model = Model(inputs=inputs, outputs=feature)\n",
        "\n",
        "# 2 feature models that sharing weights\n",
        "# x1, x2에 feature 모델 적용 / weight는 동일\n",
        "x1_net = feature_model(x1)\n",
        "x2_net = feature_model(x2)\n",
        "\n",
        "# subtract features\n",
        "# x1-x2\n",
        "net = layers.Subtract()([x1_net, x2_net])\n",
        "\n",
        "net = layers.Conv2D(32, kernel_size=3, padding='same', activation='relu')(net)\n",
        "net = layers.MaxPooling2D(pool_size=2)(net)\n",
        "\n",
        "#1차원 벡터로 생성\n",
        "net = layers.Flatten()(net)\n",
        "\n",
        "# dense 레이어\n",
        "net = layers.Dense(64, activation='relu')(net)\n",
        "# sigmoid : 0~1사이 값 출력\n",
        "net = layers.Dense(1, activation='sigmoid')(net)\n",
        "\n",
        "model = Model(inputs=[x1, x2], outputs=net)\n",
        "\n",
        "model.compile(loss='binary_crossentropy', optimizer='adam', metrics=['acc'])\n",
        "\n",
        "model.summary()\n",
        "\n"
      ],
      "metadata": {
        "id": "IbUYVceLBugU"
      },
      "execution_count": null,
      "outputs": []
    },
    {
      "cell_type": "code",
      "source": [
        "# Train\n",
        "# 학습\n",
        "history = model.fit_generator(train_gen, epochs=15, validation_data=val_gen)\n"
      ],
      "metadata": {
        "id": "qso8k35SERSA"
      },
      "execution_count": null,
      "outputs": []
    },
    {
      "cell_type": "code",
      "source": [
        "#Evaluation : 증강\n",
        "# 학습과 동일한 agmentation(증강)\n",
        "# new user fingerprint input\n",
        "random_idx = random.randint(0, len(x_val))\n",
        "\n",
        "random_img = x_val[random_idx]\n",
        "random_label = label_val[random_idx]\n",
        "\n",
        "seq = iaa.Sequential([\n",
        "    iaa.GaussianBlur(sigma=(0, 0.5)),\n",
        "    iaa.Affine(\n",
        "        scale={\"x\": (0.9, 1.1), \"y\": (0.9, 1.1)},\n",
        "        translate_percent={\"x\": (-0.1, 0.1), \"y\": (-0.1, 0.1)},\n",
        "        rotate=(-30, 30),\n",
        "        order=[0, 1],\n",
        "        cval=255\n",
        "    )\n",
        "], random_order=True)\n",
        "\n",
        "random_img = seq.augment_image(random_img).reshape((1, 90, 90, 1)).astype(np.float32) / 255.\n",
        "\n",
        "# matched image\n",
        "match_key = random_label.astype(str)\n",
        "match_key = ''.join(match_key).zfill(6)\n",
        "\n",
        "rx = x_real[label_real_dict[match_key]].reshape((1, 90, 90, 1)).astype(np.float32) / 255.\n",
        "ry = y_real[label_real_dict[match_key]]\n",
        "\n",
        "pred_rx = model.predict([random_img, rx])\n",
        "\n",
        "# unmatched image\n",
        "unmatch_key, unmatch_idx = random.choice(list(label_real_dict.items()))\n",
        "\n",
        "ux = x_real[unmatch_idx].reshape((1, 90, 90, 1)).astype(np.float32) / 255.\n",
        "uy = y_real[unmatch_idx]\n",
        "\n",
        "pred_ux = model.predict([random_img, ux])\n",
        "\n",
        "plt.figure(figsize=(8, 4))\n",
        "#input(사용자 입력) 이미지 출력\n",
        "plt.subplot(1, 3, 1)\n",
        "plt.title('Input: %s' %random_label)\n",
        "plt.imshow(random_img.squeeze(), cmap='gray')\n",
        "# 1. DB 이미지 출력\n",
        "plt.subplot(1, 3, 2)\n",
        "plt.title('O: %.02f, %s' % (pred_rx, ry))\n",
        "plt.imshow(rx.squeeze(), cmap='gray')\n",
        "# 2. DB 이미지 출력\n",
        "plt.subplot(1, 3, 3)\n",
        "plt.title('X: %.02f, %s' % (pred_ux, uy))\n",
        "plt.imshow(ux.squeeze(), cmap='gray')\n"
      ],
      "metadata": {
        "id": "ksDYoLmoEoU2"
      },
      "execution_count": null,
      "outputs": []
    },
    {
      "cell_type": "code",
      "source": [],
      "metadata": {
        "id": "vkZfMnBQ4khT"
      },
      "execution_count": null,
      "outputs": []
    }
  ]
}